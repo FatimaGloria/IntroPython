{
 "cells": [
  {
   "cell_type": "markdown",
   "metadata": {},
   "source": [
    "# Manejo de Errores"
   ]
  },
  {
   "cell_type": "markdown",
   "metadata": {},
   "source": [
    "### Tracebacks\n",
    "Es el cuerpo del texto que puede apuntar al origen (y al final) de un error no controlado. Comprender sus componentes hará que seas más eficaz el corregir errores o depurar un programa que no funciona bien."
   ]
  },
  {
   "cell_type": "code",
   "execution_count": 17,
   "metadata": {},
   "outputs": [
    {
     "ename": "FileNotFoundError",
     "evalue": "[Errno 2] No such file or directory: '/path/to/mars.jpg'",
     "output_type": "error",
     "traceback": [
      "\u001b[1;31m---------------------------------------------------------------------------\u001b[0m",
      "\u001b[1;31mFileNotFoundError\u001b[0m                         Traceback (most recent call last)",
      "\u001b[1;32mc:\\Users\\Win10\\Downloads\\CursoIntroPython-main\\CursoIntroPython-main\\Módulo 10 - Manejo de errores\\Modulo10katas.ipynb Cell 3'\u001b[0m in \u001b[0;36m<module>\u001b[1;34m\u001b[0m\n\u001b[0;32m      <a href='vscode-notebook-cell:/c%3A/Users/Win10/Downloads/CursoIntroPython-main/CursoIntroPython-main/M%C3%B3dulo%2010%20-%20Manejo%20de%20errores/Modulo10katas.ipynb#ch0000001?line=0'>1</a>\u001b[0m \u001b[39m#Abrir un archivo inexistente.\u001b[39;00m\n\u001b[1;32m----> <a href='vscode-notebook-cell:/c%3A/Users/Win10/Downloads/CursoIntroPython-main/CursoIntroPython-main/M%C3%B3dulo%2010%20-%20Manejo%20de%20errores/Modulo10katas.ipynb#ch0000001?line=2'>3</a>\u001b[0m \u001b[39mopen\u001b[39;49m(\u001b[39m\"\u001b[39;49m\u001b[39m/path/to/mars.jpg\u001b[39;49m\u001b[39m\"\u001b[39;49m)\n",
      "\u001b[1;31mFileNotFoundError\u001b[0m: [Errno 2] No such file or directory: '/path/to/mars.jpg'"
     ]
    }
   ],
   "source": [
    "#Abrir un archivo inexistente.\n",
    "\n",
    "open(\"/path/to/mars.jpg\")"
   ]
  },
  {
   "cell_type": "markdown",
   "metadata": {},
   "source": [
    "El error es FileNotFoundError (el nombre de excepción), lo que significa que el archivo no existe o quizás el directorio correspondiente no existe.\n",
    "\n",
    "Siguiente ejemplo: (Continuamos en este archivo)"
   ]
  },
  {
   "cell_type": "code",
   "execution_count": 18,
   "metadata": {},
   "outputs": [
    {
     "ename": "FileNotFoundError",
     "evalue": "[Errno 2] No such file or directory: '/path/to/mars.jpg'",
     "output_type": "error",
     "traceback": [
      "\u001b[1;31m---------------------------------------------------------------------------\u001b[0m",
      "\u001b[1;31mFileNotFoundError\u001b[0m                         Traceback (most recent call last)",
      "\u001b[1;32mc:\\Users\\Win10\\Downloads\\CursoIntroPython-main\\CursoIntroPython-main\\Módulo 10 - Manejo de errores\\Modulo10katas.ipynb Cell 5'\u001b[0m in \u001b[0;36m<module>\u001b[1;34m\u001b[0m\n\u001b[0;32m      <a href='vscode-notebook-cell:/c%3A/Users/Win10/Downloads/CursoIntroPython-main/CursoIntroPython-main/M%C3%B3dulo%2010%20-%20Manejo%20de%20errores/Modulo10katas.ipynb#ch0000028?line=1'>2</a>\u001b[0m     \u001b[39mopen\u001b[39m(\u001b[39m\"\u001b[39m\u001b[39m/path/to/mars.jpg\u001b[39m\u001b[39m\"\u001b[39m)\n\u001b[0;32m      <a href='vscode-notebook-cell:/c%3A/Users/Win10/Downloads/CursoIntroPython-main/CursoIntroPython-main/M%C3%B3dulo%2010%20-%20Manejo%20de%20errores/Modulo10katas.ipynb#ch0000028?line=3'>4</a>\u001b[0m \u001b[39mif\u001b[39;00m \u001b[39m__name__\u001b[39m \u001b[39m==\u001b[39m \u001b[39m'\u001b[39m\u001b[39m__main__\u001b[39m\u001b[39m'\u001b[39m:\n\u001b[1;32m----> <a href='vscode-notebook-cell:/c%3A/Users/Win10/Downloads/CursoIntroPython-main/CursoIntroPython-main/M%C3%B3dulo%2010%20-%20Manejo%20de%20errores/Modulo10katas.ipynb#ch0000028?line=4'>5</a>\u001b[0m     main()\n",
      "\u001b[1;32mc:\\Users\\Win10\\Downloads\\CursoIntroPython-main\\CursoIntroPython-main\\Módulo 10 - Manejo de errores\\Modulo10katas.ipynb Cell 5'\u001b[0m in \u001b[0;36mmain\u001b[1;34m()\u001b[0m\n\u001b[0;32m      <a href='vscode-notebook-cell:/c%3A/Users/Win10/Downloads/CursoIntroPython-main/CursoIntroPython-main/M%C3%B3dulo%2010%20-%20Manejo%20de%20errores/Modulo10katas.ipynb#ch0000028?line=0'>1</a>\u001b[0m \u001b[39mdef\u001b[39;00m \u001b[39mmain\u001b[39m():\n\u001b[1;32m----> <a href='vscode-notebook-cell:/c%3A/Users/Win10/Downloads/CursoIntroPython-main/CursoIntroPython-main/M%C3%B3dulo%2010%20-%20Manejo%20de%20errores/Modulo10katas.ipynb#ch0000028?line=1'>2</a>\u001b[0m     \u001b[39mopen\u001b[39;49m(\u001b[39m\"\u001b[39;49m\u001b[39m/path/to/mars.jpg\u001b[39;49m\u001b[39m\"\u001b[39;49m)\n",
      "\u001b[1;31mFileNotFoundError\u001b[0m: [Errno 2] No such file or directory: '/path/to/mars.jpg'"
     ]
    }
   ],
   "source": [
    "def main():\n",
    "    open(\"/path/to/mars.jpg\")\n",
    "\n",
    "if __name__ == '__main__':\n",
    "    main()"
   ]
  },
  {
   "cell_type": "markdown",
   "metadata": {},
   "source": [
    "La función main() usa un asistente de Python que indica al intérprete que ejecute la función cuando se le llama en la terminal. \n",
    "\n",
    "La salida menciona que el error se inicia en la línea 5, que incluye la llamada a main(). A continuación, la salida sigue el error a la línea 2 en la llamada de función open(). \n",
    "Y, por último, FileNotFoundError notifica de nuevo que el archivo o el directorio no existen."
   ]
  },
  {
   "cell_type": "markdown",
   "metadata": {},
   "source": [
    "### Try y Except de los bloques\n",
    "\n",
    "A veces resulta útil permitir que se puedan generar excepciones para que otros autores de llamadas puedan tratar los errores."
   ]
  },
  {
   "cell_type": "code",
   "execution_count": 2,
   "metadata": {},
   "outputs": [
    {
     "name": "stdout",
     "output_type": "stream",
     "text": [
      "Couldn't find the config.txt file!\n"
     ]
    }
   ],
   "source": [
    "# Controlar la excepción con un bloque try y except:\n",
    "\n",
    "try: open('config.txt') #Después de try se agrega código que pueda producir una excepción.\n",
    "except FileNotFoundError: # except más la posible excepción.\n",
    "    print(\"Couldn't find the config.txt file!\") #código a ejecutar en caso de que se produzca la excepción.\n",
    "\n",
    "#Evita un seguimiento y sigue informando al usuario sobre el problema."
   ]
  },
  {
   "cell_type": "code",
   "execution_count": 19,
   "metadata": {},
   "outputs": [
    {
     "name": "stdout",
     "output_type": "stream",
     "text": [
      "Couldn't find the config.txt file!\n"
     ]
    }
   ],
   "source": [
    "def main():\n",
    "    try:\n",
    "        configuration = open('config.txt')\n",
    "    except FileNotFoundError:\n",
    "        print(\"Couldn't find the config.txt file!\")\n",
    "\n",
    "\n",
    "if __name__ == '__main__':\n",
    "    main()"
   ]
  },
  {
   "cell_type": "markdown",
   "metadata": {},
   "source": [
    "Si necesitas acceder al error asociado a la excepción, debes actualizar la línea except para incluir la palabra clave as. Esta técnica es práctica si una excepción es demasiado genérica y el mensaje de error puede ser útil:"
   ]
  },
  {
   "cell_type": "code",
   "execution_count": 22,
   "metadata": {},
   "outputs": [
    {
     "name": "stdout",
     "output_type": "stream",
     "text": [
      "got a problem trying to read the file: [Errno 2] No such file or directory: 'mars.jpg'\n"
     ]
    }
   ],
   "source": [
    "try: open(\"mars.jpg\")\n",
    "except FileNotFoundError as err:\n",
    "    print(\"got a problem trying to read the file:\", err)\n",
    "\n",
    "#as err significa que err se convierte en una variable con el objeto de excepción como valor.\n",
    "#Después, usa este valor para imprimir el mensaje de error asociado a la excepción"
   ]
  },
  {
   "cell_type": "markdown",
   "metadata": {},
   "source": [
    "Otra razón para usar esta técnica es acceder directamente a los atributos del error. \n",
    "\n",
    "Por ejemplo, si detecta una excepción OSError más genérica, que es la excepción primaria de FilenotFoundError y PermissionError, podemos diferenciarlas mediante el atributo .errno:"
   ]
  },
  {
   "cell_type": "code",
   "execution_count": 23,
   "metadata": {},
   "outputs": [
    {
     "name": "stdout",
     "output_type": "stream",
     "text": [
      "Couldn't find the config.txt file!\n"
     ]
    }
   ],
   "source": [
    "try: open(\"config.txt\")\n",
    "except OSError as err:\n",
    "    if err.errno == 2:\n",
    "        print(\"Couldn't find the config.txt file!\")\n",
    "    elif err.errno == 13:\n",
    "        print(\"Found config.txt but couldn't read it\")"
   ]
  },
  {
   "cell_type": "markdown",
   "metadata": {},
   "source": [
    "Intenta usar siempre la técnica que proporcione la mejor legibilidad para el código y que ayude a mantenerlo en el futuro. A veces es necesario usar código menos legible para ofrecer una mejor experiencia de usuario cuando se produce un error."
   ]
  },
  {
   "cell_type": "markdown",
   "metadata": {},
   "source": [
    "### Generación de excepciones.\n",
    "En función del error, el código puede tomar deciones para resolver, solucionar o ignorar un problema. "
   ]
  },
  {
   "cell_type": "markdown",
   "metadata": {},
   "source": [
    "Ejemplo:\n",
    "Los astronautas limitan su uso de agua a unos 11 litros al día. \n",
    "Vamos a crear una función que, con base al número de astronautas, pueda calcular la cantidad de agua quedará después de un día o más:"
   ]
  },
  {
   "cell_type": "code",
   "execution_count": 7,
   "metadata": {},
   "outputs": [
    {
     "data": {
      "text/plain": [
       "'Total water left after 2 days is: -10 liters'"
      ]
     },
     "execution_count": 7,
     "metadata": {},
     "output_type": "execute_result"
    }
   ],
   "source": [
    "def water_left(astronauts, water_left, days_left):\n",
    "    daily_usage = astronauts * 11\n",
    "    total_usage = daily_usage * days_left\n",
    "    total_water_left = water_left - total_usage\n",
    "    return f\"Total water left after {days_left} days is: {total_water_left} liters\"\n",
    "\n",
    "#Probemos con cinco astronautas, 100 litros de agua sobrante y dos días:\n",
    "water_left(5, 100, 2)"
   ]
  },
  {
   "cell_type": "markdown",
   "metadata": {},
   "source": [
    "Esto no es muy útil, ya que una carencia en los litros sería un error. Después, el sistema de navegación podría alertar a los astronautas que no habrá suficiente agua para todos en dos días. Si eres un ingeniero(a) que programa el sistema de navegación, podrías generar una excepción en la función water_left() para alertar de la condición de error:"
   ]
  },
  {
   "cell_type": "code",
   "execution_count": 10,
   "metadata": {},
   "outputs": [],
   "source": [
    "def water_left(astronauts, water_left, days_left):\n",
    "    daily_usage = astronauts * 11\n",
    "    total_usage = daily_usage * days_left\n",
    "    total_water_left = water_left - total_usage\n",
    "    if total_water_left < 0:\n",
    "        raise RuntimeError(f\"There is not enough water for {astronauts} astronauts after {days_left} days!\")\n",
    "    return f\"Total water left after {days_left} days is: {total_water_left} liters\""
   ]
  },
  {
   "cell_type": "code",
   "execution_count": 11,
   "metadata": {},
   "outputs": [
    {
     "ename": "RuntimeError",
     "evalue": "There is not enough water for 5 astronauts after 2 days!",
     "output_type": "error",
     "traceback": [
      "\u001b[1;31m---------------------------------------------------------------------------\u001b[0m",
      "\u001b[1;31mRuntimeError\u001b[0m                              Traceback (most recent call last)",
      "\u001b[1;32mc:\\Users\\Win10\\Downloads\\CursoIntroPython-main\\CursoIntroPython-main\\Módulo 10 - Manejo de errores\\Modulo10katas.ipynb Cell 11'\u001b[0m in \u001b[0;36m<module>\u001b[1;34m\u001b[0m\n\u001b[0;32m      <a href='vscode-notebook-cell:/c%3A/Users/Win10/Downloads/CursoIntroPython-main/CursoIntroPython-main/M%C3%B3dulo%2010%20-%20Manejo%20de%20errores/Modulo10katas.ipynb#ch0000020?line=0'>1</a>\u001b[0m \u001b[39m#Mismos parámetros\u001b[39;00m\n\u001b[1;32m----> <a href='vscode-notebook-cell:/c%3A/Users/Win10/Downloads/CursoIntroPython-main/CursoIntroPython-main/M%C3%B3dulo%2010%20-%20Manejo%20de%20errores/Modulo10katas.ipynb#ch0000020?line=1'>2</a>\u001b[0m water_left(\u001b[39m5\u001b[39;49m, \u001b[39m100\u001b[39;49m, \u001b[39m2\u001b[39;49m)\n",
      "\u001b[1;32mc:\\Users\\Win10\\Downloads\\CursoIntroPython-main\\CursoIntroPython-main\\Módulo 10 - Manejo de errores\\Modulo10katas.ipynb Cell 10'\u001b[0m in \u001b[0;36mwater_left\u001b[1;34m(astronauts, water_left, days_left)\u001b[0m\n\u001b[0;32m      <a href='vscode-notebook-cell:/c%3A/Users/Win10/Downloads/CursoIntroPython-main/CursoIntroPython-main/M%C3%B3dulo%2010%20-%20Manejo%20de%20errores/Modulo10katas.ipynb#ch0000013?line=3'>4</a>\u001b[0m total_water_left \u001b[39m=\u001b[39m water_left \u001b[39m-\u001b[39m total_usage\n\u001b[0;32m      <a href='vscode-notebook-cell:/c%3A/Users/Win10/Downloads/CursoIntroPython-main/CursoIntroPython-main/M%C3%B3dulo%2010%20-%20Manejo%20de%20errores/Modulo10katas.ipynb#ch0000013?line=4'>5</a>\u001b[0m \u001b[39mif\u001b[39;00m total_water_left \u001b[39m<\u001b[39m \u001b[39m0\u001b[39m:\n\u001b[1;32m----> <a href='vscode-notebook-cell:/c%3A/Users/Win10/Downloads/CursoIntroPython-main/CursoIntroPython-main/M%C3%B3dulo%2010%20-%20Manejo%20de%20errores/Modulo10katas.ipynb#ch0000013?line=5'>6</a>\u001b[0m     \u001b[39mraise\u001b[39;00m \u001b[39mRuntimeError\u001b[39;00m(\u001b[39mf\u001b[39m\u001b[39m\"\u001b[39m\u001b[39mThere is not enough water for \u001b[39m\u001b[39m{\u001b[39;00mastronauts\u001b[39m}\u001b[39;00m\u001b[39m astronauts after \u001b[39m\u001b[39m{\u001b[39;00mdays_left\u001b[39m}\u001b[39;00m\u001b[39m days!\u001b[39m\u001b[39m\"\u001b[39m)\n\u001b[0;32m      <a href='vscode-notebook-cell:/c%3A/Users/Win10/Downloads/CursoIntroPython-main/CursoIntroPython-main/M%C3%B3dulo%2010%20-%20Manejo%20de%20errores/Modulo10katas.ipynb#ch0000013?line=6'>7</a>\u001b[0m \u001b[39mreturn\u001b[39;00m \u001b[39mf\u001b[39m\u001b[39m\"\u001b[39m\u001b[39mTotal water left after \u001b[39m\u001b[39m{\u001b[39;00mdays_left\u001b[39m}\u001b[39;00m\u001b[39m days is: \u001b[39m\u001b[39m{\u001b[39;00mtotal_water_left\u001b[39m}\u001b[39;00m\u001b[39m liters\u001b[39m\u001b[39m\"\u001b[39m\n",
      "\u001b[1;31mRuntimeError\u001b[0m: There is not enough water for 5 astronauts after 2 days!"
     ]
    }
   ],
   "source": [
    "#Mismos parámetros\n",
    "water_left(5, 100, 2)"
   ]
  },
  {
   "cell_type": "markdown",
   "metadata": {},
   "source": [
    "En el sistema de navegación, el código para señalar la alerta ahora puede usar RuntimeError para generar la alerta."
   ]
  },
  {
   "cell_type": "markdown",
   "metadata": {},
   "source": [
    "La función water_left() también se puede actualizar para evitar el paso de tipos no admitidos. Intenta pasar argumentos que no sean enteros para comprobar la salida de error:"
   ]
  },
  {
   "cell_type": "code",
   "execution_count": 12,
   "metadata": {},
   "outputs": [
    {
     "ename": "TypeError",
     "evalue": "can't multiply sequence by non-int of type 'NoneType'",
     "output_type": "error",
     "traceback": [
      "\u001b[1;31m---------------------------------------------------------------------------\u001b[0m",
      "\u001b[1;31mTypeError\u001b[0m                                 Traceback (most recent call last)",
      "\u001b[1;32mc:\\Users\\Win10\\Downloads\\CursoIntroPython-main\\CursoIntroPython-main\\Módulo 10 - Manejo de errores\\Modulo10katas.ipynb Cell 14'\u001b[0m in \u001b[0;36m<module>\u001b[1;34m\u001b[0m\n\u001b[1;32m----> <a href='vscode-notebook-cell:/c%3A/Users/Win10/Downloads/CursoIntroPython-main/CursoIntroPython-main/M%C3%B3dulo%2010%20-%20Manejo%20de%20errores/Modulo10katas.ipynb#ch0000019?line=0'>1</a>\u001b[0m water_left(\u001b[39m\"\u001b[39;49m\u001b[39m3\u001b[39;49m\u001b[39m\"\u001b[39;49m, \u001b[39m\"\u001b[39;49m\u001b[39m200\u001b[39;49m\u001b[39m\"\u001b[39;49m, \u001b[39mNone\u001b[39;49;00m)\n",
      "\u001b[1;32mc:\\Users\\Win10\\Downloads\\CursoIntroPython-main\\CursoIntroPython-main\\Módulo 10 - Manejo de errores\\Modulo10katas.ipynb Cell 10'\u001b[0m in \u001b[0;36mwater_left\u001b[1;34m(astronauts, water_left, days_left)\u001b[0m\n\u001b[0;32m      <a href='vscode-notebook-cell:/c%3A/Users/Win10/Downloads/CursoIntroPython-main/CursoIntroPython-main/M%C3%B3dulo%2010%20-%20Manejo%20de%20errores/Modulo10katas.ipynb#ch0000013?line=0'>1</a>\u001b[0m \u001b[39mdef\u001b[39;00m \u001b[39mwater_left\u001b[39m(astronauts, water_left, days_left):\n\u001b[0;32m      <a href='vscode-notebook-cell:/c%3A/Users/Win10/Downloads/CursoIntroPython-main/CursoIntroPython-main/M%C3%B3dulo%2010%20-%20Manejo%20de%20errores/Modulo10katas.ipynb#ch0000013?line=1'>2</a>\u001b[0m     daily_usage \u001b[39m=\u001b[39m astronauts \u001b[39m*\u001b[39m \u001b[39m11\u001b[39m\n\u001b[1;32m----> <a href='vscode-notebook-cell:/c%3A/Users/Win10/Downloads/CursoIntroPython-main/CursoIntroPython-main/M%C3%B3dulo%2010%20-%20Manejo%20de%20errores/Modulo10katas.ipynb#ch0000013?line=2'>3</a>\u001b[0m     total_usage \u001b[39m=\u001b[39m daily_usage \u001b[39m*\u001b[39;49m days_left\n\u001b[0;32m      <a href='vscode-notebook-cell:/c%3A/Users/Win10/Downloads/CursoIntroPython-main/CursoIntroPython-main/M%C3%B3dulo%2010%20-%20Manejo%20de%20errores/Modulo10katas.ipynb#ch0000013?line=3'>4</a>\u001b[0m     total_water_left \u001b[39m=\u001b[39m water_left \u001b[39m-\u001b[39m total_usage\n\u001b[0;32m      <a href='vscode-notebook-cell:/c%3A/Users/Win10/Downloads/CursoIntroPython-main/CursoIntroPython-main/M%C3%B3dulo%2010%20-%20Manejo%20de%20errores/Modulo10katas.ipynb#ch0000013?line=4'>5</a>\u001b[0m     \u001b[39mif\u001b[39;00m total_water_left \u001b[39m<\u001b[39m \u001b[39m0\u001b[39m:\n",
      "\u001b[1;31mTypeError\u001b[0m: can't multiply sequence by non-int of type 'NoneType'"
     ]
    }
   ],
   "source": [
    "water_left(\"3\", \"200\", None)"
   ]
  },
  {
   "cell_type": "markdown",
   "metadata": {},
   "source": [
    "Otro ejemplo de Type Error actualizando la función:"
   ]
  },
  {
   "cell_type": "code",
   "execution_count": 13,
   "metadata": {},
   "outputs": [],
   "source": [
    "def water_left(astronauts, water_left, days_left):\n",
    "    for argument in [astronauts, water_left, days_left]:\n",
    "        try:\n",
    "            # If argument is an int, the following operation will work\n",
    "            argument / 10\n",
    "        except TypeError:\n",
    "            # TypError will be raised only if it isn't the right type \n",
    "            # Raise the same exception but with a better error message\n",
    "            raise TypeError(f\"All arguments must be of type int, but received: '{argument}'\")\n",
    "    daily_usage = astronauts * 11\n",
    "    total_usage = daily_usage * days_left\n",
    "    total_water_left = water_left - total_usage\n",
    "    if total_water_left < 0:\n",
    "        raise RuntimeError(f\"There is not enough water for {astronauts} astronauts after {days_left} days!\")\n",
    "    return f\"Total water left after {days_left} days is: {total_water_left} liters\""
   ]
  },
  {
   "cell_type": "code",
   "execution_count": 16,
   "metadata": {},
   "outputs": [
    {
     "ename": "TypeError",
     "evalue": "All arguments must be of type int, but received: 'None'",
     "output_type": "error",
     "traceback": [
      "\u001b[1;31m---------------------------------------------------------------------------\u001b[0m",
      "\u001b[1;31mTypeError\u001b[0m                                 Traceback (most recent call last)",
      "\u001b[1;32mc:\\Users\\Win10\\Downloads\\CursoIntroPython-main\\CursoIntroPython-main\\Módulo 10 - Manejo de errores\\Modulo10katas.ipynb Cell 16'\u001b[0m in \u001b[0;36mwater_left\u001b[1;34m(astronauts, water_left, days_left)\u001b[0m\n\u001b[0;32m      <a href='vscode-notebook-cell:/c%3A/Users/Win10/Downloads/CursoIntroPython-main/CursoIntroPython-main/M%C3%B3dulo%2010%20-%20Manejo%20de%20errores/Modulo10katas.ipynb#ch0000022?line=2'>3</a>\u001b[0m \u001b[39mtry\u001b[39;00m:\n\u001b[0;32m      <a href='vscode-notebook-cell:/c%3A/Users/Win10/Downloads/CursoIntroPython-main/CursoIntroPython-main/M%C3%B3dulo%2010%20-%20Manejo%20de%20errores/Modulo10katas.ipynb#ch0000022?line=3'>4</a>\u001b[0m     \u001b[39m# If argument is an int, the following operation will work\u001b[39;00m\n\u001b[1;32m----> <a href='vscode-notebook-cell:/c%3A/Users/Win10/Downloads/CursoIntroPython-main/CursoIntroPython-main/M%C3%B3dulo%2010%20-%20Manejo%20de%20errores/Modulo10katas.ipynb#ch0000022?line=4'>5</a>\u001b[0m     argument \u001b[39m/\u001b[39;49m \u001b[39m10\u001b[39;49m\n\u001b[0;32m      <a href='vscode-notebook-cell:/c%3A/Users/Win10/Downloads/CursoIntroPython-main/CursoIntroPython-main/M%C3%B3dulo%2010%20-%20Manejo%20de%20errores/Modulo10katas.ipynb#ch0000022?line=5'>6</a>\u001b[0m \u001b[39mexcept\u001b[39;00m \u001b[39mTypeError\u001b[39;00m:\n\u001b[0;32m      <a href='vscode-notebook-cell:/c%3A/Users/Win10/Downloads/CursoIntroPython-main/CursoIntroPython-main/M%C3%B3dulo%2010%20-%20Manejo%20de%20errores/Modulo10katas.ipynb#ch0000022?line=6'>7</a>\u001b[0m     \u001b[39m# TypError will be raised only if it isn't the right type \u001b[39;00m\n\u001b[0;32m      <a href='vscode-notebook-cell:/c%3A/Users/Win10/Downloads/CursoIntroPython-main/CursoIntroPython-main/M%C3%B3dulo%2010%20-%20Manejo%20de%20errores/Modulo10katas.ipynb#ch0000022?line=7'>8</a>\u001b[0m     \u001b[39m# Raise the same exception but with a better error message\u001b[39;00m\n",
      "\u001b[1;31mTypeError\u001b[0m: unsupported operand type(s) for /: 'NoneType' and 'int'",
      "\nDuring handling of the above exception, another exception occurred:\n",
      "\u001b[1;31mTypeError\u001b[0m                                 Traceback (most recent call last)",
      "\u001b[1;32mc:\\Users\\Win10\\Downloads\\CursoIntroPython-main\\CursoIntroPython-main\\Módulo 10 - Manejo de errores\\Modulo10katas.ipynb Cell 17'\u001b[0m in \u001b[0;36m<module>\u001b[1;34m\u001b[0m\n\u001b[0;32m      <a href='vscode-notebook-cell:/c%3A/Users/Win10/Downloads/CursoIntroPython-main/CursoIntroPython-main/M%C3%B3dulo%2010%20-%20Manejo%20de%20errores/Modulo10katas.ipynb#ch0000023?line=0'>1</a>\u001b[0m \u001b[39m#Parámetros anteriores\u001b[39;00m\n\u001b[1;32m----> <a href='vscode-notebook-cell:/c%3A/Users/Win10/Downloads/CursoIntroPython-main/CursoIntroPython-main/M%C3%B3dulo%2010%20-%20Manejo%20de%20errores/Modulo10katas.ipynb#ch0000023?line=1'>2</a>\u001b[0m water_left(\u001b[39m3\u001b[39;49m, \u001b[39m200\u001b[39;49m, \u001b[39mNone\u001b[39;49;00m)\n",
      "\u001b[1;32mc:\\Users\\Win10\\Downloads\\CursoIntroPython-main\\CursoIntroPython-main\\Módulo 10 - Manejo de errores\\Modulo10katas.ipynb Cell 16'\u001b[0m in \u001b[0;36mwater_left\u001b[1;34m(astronauts, water_left, days_left)\u001b[0m\n\u001b[0;32m      <a href='vscode-notebook-cell:/c%3A/Users/Win10/Downloads/CursoIntroPython-main/CursoIntroPython-main/M%C3%B3dulo%2010%20-%20Manejo%20de%20errores/Modulo10katas.ipynb#ch0000022?line=4'>5</a>\u001b[0m         argument \u001b[39m/\u001b[39m \u001b[39m10\u001b[39m\n\u001b[0;32m      <a href='vscode-notebook-cell:/c%3A/Users/Win10/Downloads/CursoIntroPython-main/CursoIntroPython-main/M%C3%B3dulo%2010%20-%20Manejo%20de%20errores/Modulo10katas.ipynb#ch0000022?line=5'>6</a>\u001b[0m     \u001b[39mexcept\u001b[39;00m \u001b[39mTypeError\u001b[39;00m:\n\u001b[0;32m      <a href='vscode-notebook-cell:/c%3A/Users/Win10/Downloads/CursoIntroPython-main/CursoIntroPython-main/M%C3%B3dulo%2010%20-%20Manejo%20de%20errores/Modulo10katas.ipynb#ch0000022?line=6'>7</a>\u001b[0m         \u001b[39m# TypError will be raised only if it isn't the right type \u001b[39;00m\n\u001b[0;32m      <a href='vscode-notebook-cell:/c%3A/Users/Win10/Downloads/CursoIntroPython-main/CursoIntroPython-main/M%C3%B3dulo%2010%20-%20Manejo%20de%20errores/Modulo10katas.ipynb#ch0000022?line=7'>8</a>\u001b[0m         \u001b[39m# Raise the same exception but with a better error message\u001b[39;00m\n\u001b[1;32m----> <a href='vscode-notebook-cell:/c%3A/Users/Win10/Downloads/CursoIntroPython-main/CursoIntroPython-main/M%C3%B3dulo%2010%20-%20Manejo%20de%20errores/Modulo10katas.ipynb#ch0000022?line=8'>9</a>\u001b[0m         \u001b[39mraise\u001b[39;00m \u001b[39mTypeError\u001b[39;00m(\u001b[39mf\u001b[39m\u001b[39m\"\u001b[39m\u001b[39mAll arguments must be of type int, but received: \u001b[39m\u001b[39m'\u001b[39m\u001b[39m{\u001b[39;00margument\u001b[39m}\u001b[39;00m\u001b[39m'\u001b[39m\u001b[39m\"\u001b[39m)\n\u001b[0;32m     <a href='vscode-notebook-cell:/c%3A/Users/Win10/Downloads/CursoIntroPython-main/CursoIntroPython-main/M%C3%B3dulo%2010%20-%20Manejo%20de%20errores/Modulo10katas.ipynb#ch0000022?line=9'>10</a>\u001b[0m daily_usage \u001b[39m=\u001b[39m astronauts \u001b[39m*\u001b[39m \u001b[39m11\u001b[39m\n\u001b[0;32m     <a href='vscode-notebook-cell:/c%3A/Users/Win10/Downloads/CursoIntroPython-main/CursoIntroPython-main/M%C3%B3dulo%2010%20-%20Manejo%20de%20errores/Modulo10katas.ipynb#ch0000022?line=10'>11</a>\u001b[0m total_usage \u001b[39m=\u001b[39m daily_usage \u001b[39m*\u001b[39m days_left\n",
      "\u001b[1;31mTypeError\u001b[0m: All arguments must be of type int, but received: 'None'"
     ]
    }
   ],
   "source": [
    "#Parámetros anteriores\n",
    "water_left(3, 200, None)"
   ]
  }
 ],
 "metadata": {
  "interpreter": {
   "hash": "d96b210f9e92d37d2a50a0882932c4b0b325d4587011b111407244d2a9b79082"
  },
  "kernelspec": {
   "display_name": "Python 3.9.10 64-bit (windows store)",
   "language": "python",
   "name": "python3"
  },
  "language_info": {
   "codemirror_mode": {
    "name": "ipython",
    "version": 3
   },
   "file_extension": ".py",
   "mimetype": "text/x-python",
   "name": "python",
   "nbconvert_exporter": "python",
   "pygments_lexer": "ipython3",
   "version": "3.9.10"
  },
  "orig_nbformat": 4
 },
 "nbformat": 4,
 "nbformat_minor": 2
}
